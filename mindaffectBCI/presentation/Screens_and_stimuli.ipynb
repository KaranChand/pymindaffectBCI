{
 "cells": [
  {
   "cell_type": "markdown",
   "metadata": {},
   "source": [
    "# Screens and Stimuli\n",
    "\n",
    "## Overview\n",
    "To make an application you need to present stimuli to your participant with sufficient meta-information to correctly analysis that data later.  In this tutorial we will show how to do this using the MindAffect software framework."
   ]
  },
  {
   "cell_type": "markdown",
   "metadata": {},
   "source": [
    "## System architecture\n",
    "\n",
    "The mindaffect BCI system is made up of 4 key components:\n",
    "1. Acquisition : This component talks to the measurment hardware to get the raw EEG data.\n",
    "2. Hub : This component acts as a central server to connect all the other components together.  It is also responsible for saving the data-files and log-file to disk.\n",
    "3. Presentation : This component is responsible for presenting stimuli to the user, and providing the main interaction user interface.\n",
    "4. Decoder : This component is responsible for on-line analysis of the raw EEG data and stimulus information and generating predictions for the rest of the system. \n",
    "\n",
    "An illustration of the system components and how the interact with each other can be found here \n",
    "\n",
    "<img src='../../docs/SystemArchitecture.png' width=800>\n",
    "\n",
    "In this notebook we will focus on how to make a presentation system using the 'Screens' classes."
   ]
  },
  {
   "cell_type": "markdown",
   "metadata": {},
   "source": [
    "## Key Concepts: Screens, Stimulus-state, stimulus-sequences and 'noisetags'\n",
    "Before we start looking at code we need to understand the key concepts of 'Screens' and 'Stimulus Seqeuences'.\n",
    "\n",
    "### Screen\n",
    "In our framework a screen is the name for a class which will present information to the user.  The types of screens used in an application can be roughly divided into 2 types:\n",
    "1. User-Interface screens.  These screens are used to provide the user-interface for an application to the user.   Think of things like a main-menu screen, or an electrode quality screen.  These screens normally don't interact with the BCI, except to present information or switch operating modes.\n",
    "2. Stimulus Screens.   These screens are used to present stimuli to the participant for which we later will want to analyse the associated brain responses.  Think of the 'flicker screen' used for the c-VEP BCI or a flashing row/col screen for a P300 type speller.  These screens normally must be highly timing precise w.r.t. the stimulus presentation time and properties.  As we later want to cross-analyse the presented stimuli and the measured EEG, these screens must interact closely with the BCI to provide the appropriate information to the rest of the system for that later analysis.\n",
    "\n",
    "#### Dumb-screens and Stimulus States\n",
    "When presenting stimuli to the user for BCI purposes, it is important that the stimuli meet particular properties, e.g. on-duration, auto/cross correlation properties, etc.  In order to simplify the development of screens we have adopted a strict policy of separation of concerns.  With regard to screens this can be summarized as:  \"stimulus-screens are dumb, and just present the stimuli as given in the current stimulus-state\".   Where the stimulus-state describes the current stimulus state of the system.\n",
    "\n",
    "### Stimulus State\n",
    "The stimulus-state, describes the currently presented stimuli to the user, in the form of a number of stimulus-objects with associated stimulus-states.   For example, if we have 4 boxes on the screen, each box would be a stimulus object.  If each box can have, say, one of 3 colors (red,green, and blue) then each box can be in one of 3 stimulus states, (1=red, 2=green, 3=blue).   Thus, the complete stimulus state can be described by 4 numbers, e.g. [1,1,2,3], which is interperted by the screen as: object 1 in state 1, object 2 in state 1, object 3 in state 2, object 4 in state 3.   As a human-readable shortand we write this as 'o1.e1,o2.e1,o3.e2,o4.e3'.  \n",
    "\n",
    "A screen will then define a mapping from stimulus-states to actual display properties, and when given the stimulus state set the various presentation objects to the appropriate states.  \n",
    "\n",
    "### Noisetag object\n",
    "\n",
    "By design screens are dumb, and do *not* have any concept of state, or how to talk to a BCI -- this makes it relatively easy to design new or special purpose screens as needed.  \n",
    "\n",
    "Thus, the responsibility for sequencing of the stimuli and the communication with the BCI (i.e. the hub and the decoder).  Speficially, (for historic reasons), these two roles are managed by the [Noisetag object](`noisetag.py`).  Specifically it:\n",
    "1. Manages the playback of the stimulus sequences to tell the Screen what to show at each point in time,\n",
    "2. Communicates the information about the current stimulus state to the decoder, via. the Hub.\n",
    "\n",
    "### Stimulus Sequences\n",
    "\n",
    "The noisetag object simply plays back a given sequence of stimulus states.  The sequence of stimulus states is called a stimulus sequence, which is just a seqeuence of stimulus states over time.  As ensuring a stimulus sequence has optimal properties can be a computationally expensive task, such stimulus sequences are pre-compiled and loaded from file.   For more information on making stimulus sequences see [Make Stimulus Sequences.ipynb](Make Stimulus Sequences.ipynb).\n",
    "\n",
    "Note: By default stimulus sequences are saved in the directory `mindaffectBCI\\stimulus_seqeuence`\n",
    "\n",
    "Here are 2 example binary stimulus sequences, as images, with time running vertically downwards and 'outputs' horizontally.  \n",
    "\n",
    "<img src='../stimulus_sequence/mgold_61_6521_psk_60hz.png' height=600> _________\n",
    "<img src='../stimulus_sequence/rc5x5.png' height=600>\n",
    "\n",
    "##Question: One stimulus sequence is a random noise code, one is a p300 style 'row-column' code.   Can you identify which is which?\n",
    "\n"
   ]
  },
  {
   "cell_type": "markdown",
   "metadata": {},
   "source": [
    "### Basic stimulus presentation -- Screen class\n",
    "\n",
    "The most basic object to present stimuli to the user is a Screen class.  Functionally, for Stimulus presentation screens this class runs the following pseudo-code:\n",
    "```\n",
    "1. while screen is not finished:\n",
    "3.     draw the presentation objects\n",
    "```\n",
    "\n",
    "Functionally, this is *not* implemented as a loop, but the application framework iterative calls the Screen's `draw` method very video frame.   Thus the key methods of the Screen are:\n",
    "* _draw_ : This method draws the presentation objects.\n",
    "* _is_done_ : This method returns true if the screen is finished displaying.\n",
    "* _reset_ : This method resets the state of the screen, so it can be re-used."
   ]
  },
  {
   "cell_type": "markdown",
   "metadata": {},
   "source": [
    "### pyglet basics -- _batch_ and _group_ \n",
    "\n",
    "We use [pyglet](pyglet.org) for stimulus display.  This is a relatively low level cross-platform game design framework, which uses [openGL](www.opengl.org) for the control of the graphics hardward.  OpenGL is a *massive* topic, which we will not go into here.  However, an important concept for Screen's is that for optimizing drawing efficiency you should combine drawing operations into a single group, called a *batch*.  Fortunately, pyglet provides tools to easily add screen objects to a batch, and then they can be drawn a single fast operation.  See(https://pyglet.readthedocs.io/en/latest/programming_guide/graphics.html#batched-rendering) for more information on batches and groups. "
   ]
  },
  {
   "cell_type": "code",
   "execution_count": 2,
   "metadata": {},
   "outputs": [],
   "source": [
    "%load_ext autoreload\n",
    "%autoreload 2"
   ]
  },
  {
   "cell_type": "markdown",
   "metadata": {},
   "source": [
    "#### Minimal screen\n",
    "Now lets define a minimal screen, which just shows the text 'hello-world' on the screen, for 200 frames."
   ]
  },
  {
   "cell_type": "code",
   "execution_count": 3,
   "metadata": {},
   "outputs": [],
   "source": [
    "import pyglet\n",
    "from mindaffectBCI.presentation.screens.basic_screens import Screen\n",
    "\n",
    "class MinimalScreen(Screen):\n",
    "    '''Screen which shows a blank screen for duration or until key-pressed'''\n",
    "    def __init__(self, window):\n",
    "        super().__init__(window)\n",
    "        # make a batch for rendering\n",
    "        self.batch = pyglet.graphics.Batch()\n",
    "\n",
    "        # make the text object, in the middle of the screen, and add to the batch\n",
    "        self.text =pyglet.text.Label(\"Hello World\", font_size=12, \n",
    "                                    x=self.window.width//2, y=self.window.height//2,\n",
    "                                    color=(255, 255, 255, 255),\n",
    "                                    anchor_x='center', anchor_y='center',\n",
    "                                    batch=self.batch)\n",
    "        self.reset()\n",
    "\n",
    "    def reset(self):\n",
    "        self.nframe = 0\n",
    "\n",
    "    def is_done(self):\n",
    "        ''' we are finished after 200 frames ~= 4s '''\n",
    "        return self.nframe > 60*4\n",
    "\n",
    "    def draw(self, t):\n",
    "        ''' draw the batch '''\n",
    "        self.nframe = self.nframe + 1\n",
    "        self.batch.draw()"
   ]
  },
  {
   "cell_type": "markdown",
   "metadata": {},
   "source": [
    "### ScreenRunner\n",
    "\n",
    "So we have made the screen, how to we get to see it.  To do that we need something to setup the pyglet window, and call the screens draw method as needed.   This functionality is provided by the `ScreenRunner`.  To use this we first have to initialize the window with `initPyglet`, and then run the screen with `run_screen`."
   ]
  },
  {
   "cell_type": "code",
   "execution_count": 4,
   "metadata": {},
   "outputs": [],
   "source": [
    "from mindaffectBCI.presentation.ScreenRunner import initPyglet, run_screen, run\n"
   ]
  },
  {
   "cell_type": "code",
   "execution_count": 5,
   "metadata": {},
   "outputs": [],
   "source": [
    "window = initPyglet(width=640,height=480)"
   ]
  },
  {
   "cell_type": "markdown",
   "metadata": {},
   "source": [
    "Now that we have got the window, let's make the screen and connect it to it"
   ]
  },
  {
   "cell_type": "code",
   "execution_count": 6,
   "metadata": {},
   "outputs": [],
   "source": [
    "# make the screen and connect to the windown\n",
    "screen = MinimalScreen(window)"
   ]
  },
  {
   "cell_type": "markdown",
   "metadata": {},
   "source": [
    "And now lets run the screen we have made.\n",
    "\n",
    "Note: \n",
    "1. We reset the screen before running so we can run this cell multiple times\n",
    "2. We set the draw-rate, as there is a bug when using the 'frame timing' code when running in a notebook..."
   ]
  },
  {
   "cell_type": "code",
   "execution_count": 7,
   "metadata": {},
   "outputs": [
    {
     "name": "stdout",
     "output_type": "stream",
     "text": [
      "app exit\n",
      "app exit\n",
      "app exit\n",
      "app exit\n",
      "app exit\n",
      "app exit\n"
     ]
    }
   ],
   "source": [
    "screen.reset()\n",
    "run_screen(window,screen,drawrate=1/30)"
   ]
  },
  {
   "cell_type": "markdown",
   "metadata": {},
   "source": [
    "#### Notebook issues:\n",
    "Running pyglet screens directly in the notebook causes some difficulties, which means stimulus presentation is not reliable.  To avoid these issues it is better to make the screen and window directly to run the screen.  For a screen defined in the file `ScreenNameScreen.py` with the class name `ScreenNameScreen`, this can be done directly using the `run` method of `ScreenRunner`.   For example, using the `MinimalScreen` implementation from the `MinimalScreen.py` file as:"
   ]
  },
  {
   "cell_type": "code",
   "execution_count": 1,
   "metadata": {},
   "outputs": [
    {
     "name": "stderr",
     "output_type": "stream",
     "text": [
      "C:\\Users\\Developer\\AppData\\Local\\Packages\\PythonSoftwareFoundation.Python.3.8_qbz5n2kfra8p0\\LocalCache\\local-packages\\Python38\\site-packages\\pyglet\\image\\codecs\\wic.py:292: UserWarning: [WinError -2147417850] Cannot change thread mode after it is set\n",
      "  warnings.warn(str(err))\n"
     ]
    },
    {
     "name": "stdout",
     "output_type": "stream",
     "text": [
      "app exit\n"
     ]
    }
   ],
   "source": [
    "from mindaffectBCI.presentation.ScreenRunner import run\n",
    "run('MinimalScreen',width=640,height=480)"
   ]
  },
  {
   "cell_type": "markdown",
   "metadata": {},
   "source": [
    "## Minimal Stimulus Presentation Screen\n",
    "\n",
    "To present stimulus, as mentioned above we use a `noisetag` object to load and run the stimulus sequence, and communicate the appropriate information to the BCI.\n",
    "\n",
    "Thus, to make a minimal stimulus presentation object we need to :\n",
    "1. Take a noisetag object as input\n",
    "2. During every draw call:\n",
    "3.       Ask the noisetag object for the current stimulus state, (using `getNextStimulusState`)\n",
    "4.       and log the previous stimulus state, with the timestamp of the window flip (using `sendStimulusState` and `window.lastfliptime`)\n",
    "5.       Update our display objects state to reflect the current stimulus state.\n",
    "\n",
    "To make a minimal stimulus display object we will modify the MinimalScreen to include these facilities.\n"
   ]
  },
  {
   "cell_type": "code",
   "execution_count": 1,
   "metadata": {},
   "outputs": [],
   "source": [
    "import pyglet\n",
    "from mindaffectBCI.presentation.screens.basic_screens import Screen\n",
    "class MinimalStimulusScreen(Screen):\n",
    "    '''Screen which shows a blank screen for duration or until key-pressed'''\n",
    "    def __init__(self, window, noisetag=None):\n",
    "        super().__init__(window)\n",
    "        self.noisetag = noisetag\n",
    "        # make a batch for rendering\n",
    "        self.batch = pyglet.graphics.Batch()\n",
    "\n",
    "        # make the text object, in the middle of the screen, and add to the batch\n",
    "        self.text =pyglet.text.Label(\"Hello World\", font_size=12, \n",
    "                                    x=self.window.width//2, y=self.window.height//2,\n",
    "                                    color=(255, 255, 255, 255),\n",
    "                                    anchor_x='center', anchor_y='center',\n",
    "                                    batch=self.batch)\n",
    "        self.reset()\n",
    "\n",
    "    def reset(self):\n",
    "        self.nframe = 0\n",
    "\n",
    "    def is_done(self):\n",
    "        ''' we are finished when the stimulus sequence is finished '''\n",
    "        return not self.noisetag.isRunning()\n",
    "\n",
    "    def draw(self, t):\n",
    "        ''' draw the batch '''\n",
    "        self.nframe = self.nframe + 1\n",
    "\n",
    "        # get the stimulus state from the noisetag object\n",
    "        if self.noisetag:\n",
    "            # log the previous stimulus state info @ the accurate window flip time\n",
    "            self.noisetag.sendStimulusState(timestamp=self.window.lastfliptime)\n",
    "            # get the next stimulus state to display, if there is one!\n",
    "            try:\n",
    "                stimulusState, target_idx, objIDs, sendEvent = self.noisetag.getNextStimulusState()\n",
    "            except StopIteration:\n",
    "                # this is raised if the stimulus sequence is already complete...\n",
    "                return\n",
    "                \n",
    "            if stimulusState is None: \n",
    "                return\n",
    "\n",
    "            # update the display to reflect the current stimulus state\n",
    "            col = (255,255,255,255)\n",
    "            if stimulusState[0]==0 : # state 0 -> grey\n",
    "                col = (5,5,5,255)\n",
    "            elif stimulusState[0]==1: # state 1 -> red\n",
    "                col = (255,0,0,255)\n",
    "            elif stimulusState[0]==2: # state 2 -> green\n",
    "                col = (0,255,0,255)\n",
    "            # update the label color\n",
    "            self.text.color = col\n",
    "\n",
    "        self.batch.draw()"
   ]
  },
  {
   "cell_type": "markdown",
   "metadata": {},
   "source": [
    "To use this screen we need to :\n",
    "\n",
    "1. create a `noisetag` object and set it's stimulus sequence\n",
    "2. (Optional): connect the `noisetag` object to the Hub\n",
    "2. create a window\n",
    "3. create the screen with the window and noisetag object\n",
    "4. tell the noisetag object to run the flicker sequence\n",
    "5. run the screen"
   ]
  },
  {
   "cell_type": "code",
   "execution_count": null,
   "metadata": {},
   "outputs": [],
   "source": [
    "# create the noisetag object and load a stimulus sequence to play\n",
    "from mindaffectBCI.noisetag import Noisetag\n",
    "nt = Noisetag(stimSeq='level2_gold.txt')\n",
    "nt.startFlicker()"
   ]
  },
  {
   "cell_type": "code",
   "execution_count": null,
   "metadata": {},
   "outputs": [],
   "source": [
    "from mindaffectBCI.presentation.ScreenRunner import initPyglet, run_screen, run\n",
    "# make the window and run it\n",
    "window = initPyglet(width=640, height=480)\n",
    "screen = MinimalStimulusScreen(window,noisetag=nt)\n",
    "run_screen(window, screen)"
   ]
  },
  {
   "cell_type": "markdown",
   "metadata": {},
   "source": [
    "## Custom Stimulus seqeuences\n",
    "\n",
    "If you ran the above stimulus sequence you will have noticed that the label changed very rapidly - in fact at 30Hz.   Depending on the stimulus design you want this may or may not be what you want.  Further, when used with multiple stimulus 'objects' the stimulus sequence `level3_gold.txt` will have all objects changing at the same time.   To make it easier to make a stimulus sequence with your desired properties the file [`stimseq.py`](../stimseq.py) contains different functions for manipulating stimulus sequences.  For example to slow a stimulus sequence down you can use `upsample_with_jitter` or to join two stimulus sequences together you can use `concatenate_objects`.   An overview of the most useful stimseq manipulation functions is given here:\n",
    "* `upsample_with_jitter` - this function will *slow down* the input sequence, either by inserting all-zero stimulus states (if `latch` is False), or by repeating the stimulus state a number of times (when `latch` is true).   Further, the number of inserted states can be randomized to introduce some timing jitter with the `jitter` parameter.\n",
    "* `concatenate_objects` - given 2 stimulus sequences make a combined sequence with the objects of sequence one before the objects of sequence 2.\n",
    "* `interleave_objects` - Make a new *slowed-down* stimulus sequence where only `nactive` objects are active at any time point, by adding extra stimulus states where all other objects are in state zero.\n",
    "* `rewrite_levels` - Map the levels in the input stimulus sequence to new levels according to the mapping given in the `new_levels` dictionary.\n",
    "\n",
    "#### Modifying stimulus sequence example, slowing down with jitter\n",
    "As an example of making a stimulus sequence with desired properties, here we make a new sequence which is simply slowed down with a bit of jitter."
   ]
  },
  {
   "cell_type": "code",
   "execution_count": 11,
   "metadata": {},
   "outputs": [
    {
     "data": {
      "text/plain": [
       "<AxesSubplot:>"
      ]
     },
     "execution_count": 11,
     "metadata": {},
     "output_type": "execute_result"
    },
    {
     "data": {
      "image/png": "[encoded data removed]",
      "text/plain": [
       "<Figure size 432x288 with 1 Axes>"
      ]
     },
     "metadata": {
      "needs_background": "light"
     },
     "output_type": "display_data"
    }
   ],
   "source": [
    "from mindaffectBCI.stimseq import StimSeq, upsample_with_jitter\n",
    "# load the starting sequence\n",
    "stimseq = StimSeq.fromFile('level3_gold.txt')\n",
    "# and plot to visualize\n",
    "stimseq.plot()"
   ]
  },
  {
   "cell_type": "code",
   "execution_count": 10,
   "metadata": {},
   "outputs": [
    {
     "data": {
      "text/plain": [
       "<AxesSubplot:>"
      ]
     },
     "execution_count": 10,
     "metadata": {},
     "output_type": "execute_result"
    },
    {
     "data": {
      "image/png": "[encoded data removed]",
      "text/plain": [
       "<Figure size 432x288 with 1 Axes>"
      ]
     },
     "metadata": {
      "needs_background": "light"
     },
     "output_type": "display_data"
    }
   ],
   "source": [
    "# slow it down by a factor of 10 with a jitter of +/-4, with zero-padding\n",
    "stimseq = upsample_with_jitter(stimseq,soa=30, jitter=4, latch=False)\n",
    "stimseq.plot()"
   ]
  },
  {
   "cell_type": "code",
   "execution_count": 12,
   "metadata": {},
   "outputs": [
    {
     "name": "stdout",
     "output_type": "stream",
     "text": [
      "Saving to: level3_gold_soa30.txt\n"
     ]
    }
   ],
   "source": [
    "# save this modified stim-seq so we can use it in the Screen\n",
    "stimseq.toFile('level3_gold_soa30.txt')"
   ]
  },
  {
   "cell_type": "markdown",
   "metadata": {},
   "source": [
    "Now let's use this new stimulus sequence and see if it worked to slow down the stimulus rate."
   ]
  },
  {
   "cell_type": "code",
   "execution_count": 3,
   "metadata": {},
   "outputs": [
    {
     "name": "stdout",
     "output_type": "stream",
     "text": [
      "flicker: 240 frames, tgt -1\n",
      "app exit\n"
     ]
    }
   ],
   "source": [
    "# create the noisetag object and load a stimulus sequence to play\n",
    "from mindaffectBCI.noisetag import Noisetag\n",
    "nt = Noisetag(stimSeq='level3_gold_soa30.txt')\n",
    "nt.startFlicker()\n",
    "\n",
    "from mindaffectBCI.presentation.ScreenRunner import initPyglet, run_screen, run\n",
    "# make the window and run it\n",
    "window = initPyglet(width=640, height=480)\n",
    "screen = MinimalStimulusScreen(window,noisetag=nt)\n",
    "run_screen(window, screen)"
   ]
  },
  {
   "cell_type": "markdown",
   "metadata": {},
   "source": [
    "## Connecting to the Hub\n",
    "\n",
    "The previous example shows how the stimuli look,  however inorder to make it a valid experiement you need to connect the noisetag to the Hub.   You can do this with `noisetag.connect()` which will try to auto-connect to the first hub found on your network.  \n",
    "\n",
    "Also, most stimuli have more than 1 trial with some gaps to allow the participant a small break.  As this is such a common type of 'meta-stimulus-sequence' to use, the noisetag already supports this and can easily cause it to happen using the `startPrediction` method, and with the appropriate numbers of trials and durations.   Combining these we have a working experiment with:\n"
   ]
  },
  {
   "cell_type": "code",
   "execution_count": 2,
   "metadata": {},
   "outputs": [
    {
     "name": "stdout",
     "output_type": "stream",
     "text": [
      "Trying to auto-discover the utopia-hub server\n",
      "making discovery object\n",
      "Using inteface: 192.168.200.39\n",
      "Got location: 192.168.200.39\n",
      ".\n",
      ".\n",
      ".\n",
      ".\n",
      ".\n",
      ".\n",
      "Discovery returned 1 utopia-hub servers\n",
      "Discovered utopia-hub on 192.168.200.39 ...\n",
      "Tring to connect to: 192.168.200.39:-1\n",
      "Trying to connect to: 192.168.200.39:8400\n",
      "Connected!\n",
      "NewSubscriptions: PFSNMEQ\n"
     ]
    }
   ],
   "source": [
    "# create the noisetag object and load a stimulus sequence to play\n",
    "from mindaffectBCI.noisetag import Noisetag\n",
    "# use a 3-level gold code\n",
    "nt = Noisetag(stimSeq='level3_gold.txt')\n",
    "# connect to a running hub to record stimulus info\n",
    "nt.connect()\n",
    "nt.startPrediction(nTrials=5, trialduration=4)"
   ]
  },
  {
   "cell_type": "code",
   "execution_count": 3,
   "metadata": {},
   "outputs": [
    {
     "name": "stderr",
     "output_type": "stream",
     "text": [
      "C:\\Users\\Developer\\AppData\\Local\\Packages\\PythonSoftwareFoundation.Python.3.8_qbz5n2kfra8p0\\LocalCache\\local-packages\\Python38\\site-packages\\pyglet\\image\\codecs\\wic.py:292: UserWarning: [WinError -2147417850] Cannot change thread mode after it is set\n",
      "  warnings.warn(str(err))\n"
     ]
    },
    {
     "name": "stdout",
     "output_type": "stream",
     "text": [
      "Start Pred: 0/5\n",
      "tgtidx=-1\n",
      "2.stim, tgt:-1   240frames\n",
      "flicker: 240 frames, tgt -1\n",
      " with selection\n",
      "\n",
      "3.feedback 60.0\n",
      "4033ms pred:-1 sel:0  x\n",
      "3.wait 60.0\n",
      "flicker: 60 frames, tgt -1\n",
      "highlight: tgtidx=-1 nframes=60\n",
      "\n",
      "\n",
      "Start Pred: 1/5\n",
      "tgtidx=-1\n",
      "2.stim, tgt:-1   240frames\n",
      "flicker: 240 frames, tgt -1\n",
      " with selection\n",
      "\n",
      "3.feedback 60.0\n",
      "4018ms pred:-1 sel:0  x\n",
      "3.wait 60.0\n",
      "flicker: 60 frames, tgt -1\n",
      "highlight: tgtidx=-1 nframes=60\n",
      "\n",
      "\n",
      "Start Pred: 2/5\n",
      "tgtidx=-1\n",
      "2.stim, tgt:-1   240frames\n",
      "flicker: 240 frames, tgt -1\n",
      " with selection\n",
      "\n",
      "3.feedback 60.0\n",
      "4019ms pred:-1 sel:0  x\n",
      "3.wait 60.0\n",
      "flicker: 60 frames, tgt -1\n",
      "highlight: tgtidx=-1 nframes=60\n",
      "\n",
      "\n",
      "Start Pred: 3/5\n",
      "tgtidx=-1\n",
      "2.stim, tgt:-1   240frames\n",
      "flicker: 240 frames, tgt -1\n",
      " with selection\n",
      "\n",
      "3.feedback 60.0\n",
      "4015ms pred:-1 sel:0  x\n",
      "3.wait 60.0\n",
      "flicker: 60 frames, tgt -1\n",
      "highlight: tgtidx=-1 nframes=60\n",
      "\n",
      "\n",
      "Start Pred: 4/5\n",
      "tgtidx=-1\n",
      "2.stim, tgt:-1   240frames\n",
      "flicker: 240 frames, tgt -1\n",
      " with selection\n",
      "\n",
      "3.feedback 60.0\n",
      "4019ms pred:-1 sel:0  x\n",
      "3.wait 60.0\n",
      "flicker: 60 frames, tgt -1\n",
      "highlight: tgtidx=-1 nframes=60\n",
      "\n",
      "\n",
      "\n",
      "app exit\n"
     ]
    }
   ],
   "source": [
    "from mindaffectBCI.presentation.ScreenRunner import initPyglet, run_screen, run\n",
    "# make the window and run it\n",
    "window = initPyglet(width=640, height=480)\n",
    "screen = MinimalStimulusScreen(window,noisetag=nt)\n",
    "run_screen(window, screen)"
   ]
  },
  {
   "cell_type": "markdown",
   "metadata": {},
   "source": [
    "# Available Stimulus screens\n",
    "\n",
    "Above we presented the basic functionality needed to make a simple screen, and then a simple stimulus screen.  Obviously, we already have many common screens defined.  A brief overview of available screens in the `presentation.screens` package is:\n",
    "\n",
    "### User Interface Screens\n",
    "* `WaitScreen`: Shows text until a time-out or key/mouse is pressed\n",
    "* `InstructionScreen`: Shows some text on the screen\n",
    "* `MenuScreen`: Shows a number list of options on the screen, and waits until a valid key is pressed\n",
    "* `ElectrodeQualityScreen`: Shows summar information about the current live EEG and the quality of each electrode\n",
    "* `FrameRateTestScreen`: Checks the frame rate of the current display window\n",
    "\n",
    "### Meta-screens, i.e. screens which contain sub-screens\n",
    "* `ScreenGraph`: Screen which switches between sub-screens on the basis of a screen transition graph.\n",
    "* `LoopedScreenGraph`: Screen which loops round a sub-screen graph a number of times\n",
    "* `SubscreeMenuScreen`: Screen which automatically makes a menu to allow users to manually select which sub-screen to run next.\n",
    "* `ExptManagerScreen`: Screen which implmenents a complete experiment framework.  This (to date) has been used as the basis of most of our experiment.\n",
    "\n",
    "### Stimulus Presentation Screens\n",
    "* `SelectionGridScreen`: Base class for presentation of stimuli, particularly focused on presenting multiple 'flickering' objects on the screen at one time.   Many of the below specific stimuli screens are built from this class\n",
    "* `SelectionWheelScreen` : Variation of the selection grid where instead of stimuli being shown in a rectangular grid, they are shown as a radius+angle 'dartboard'\n",
    "* `ImageFlashScreen` : Varition of the selelction grid, where instead of the state defining the color of the grid background, it says which background image to show\n",
    "* `SoundFlashScreen` : Variation of the selection grid, where the state defines which sound should be playeed every frame."
   ]
  },
  {
   "cell_type": "markdown",
   "metadata": {},
   "source": [
    "As it is easier to understand what the different screens do by seeing them run than by description, you can run a _gallery_ screen from the `gallery.json` configuration file by:\n"
   ]
  },
  {
   "cell_type": "code",
   "execution_count": 2,
   "metadata": {},
   "outputs": [
    {
     "name": "stdout",
     "output_type": "stream",
     "text": [
      "Loading config from: c:\\users\\developer\\desktop\\private\\mindaffectBCI\\config\\gallery.json\n"
     ]
    },
    {
     "name": "stderr",
     "output_type": "stream",
     "text": [
      "C:\\Users\\Developer\\AppData\\Local\\Packages\\PythonSoftwareFoundation.Python.3.8_qbz5n2kfra8p0\\LocalCache\\local-packages\\Python38\\site-packages\\pyglet\\image\\codecs\\wic.py:292: UserWarning: [WinError -2147417850] Cannot change thread mode after it is set\n",
      "  warnings.warn(str(err))\n"
     ]
    },
    {
     "name": "stdout",
     "output_type": "stream",
     "text": [
      "Electrode Quality (3600000ms)\n",
      "use_audio_timestamps=False\n",
      "WARNING: state2vol should include a volume for level 0.\n"
     ]
    },
    {
     "name": "stderr",
     "output_type": "stream",
     "text": [
      "C:\\Users\\Developer\\AppData\\Local\\Packages\\PythonSoftwareFoundation.Python.3.8_qbz5n2kfra8p0\\LocalCache\\local-packages\\Python38\\site-packages\\pyglet\\media\\codecs\\wmf.py:838: UserWarning: [WinError -2147417850] Cannot change thread mode after it is set\n",
      "  warnings.warn(str(err))\n"
     ]
    },
    {
     "name": "stdout",
     "output_type": "stream",
     "text": [
      "Loading: c:\\users\\developer\\desktop\\private\\mindaffectBCI\\presentation\\screens\\..\\audio\\digits/MAE_1A.wav\n",
      "Loading: c:\\users\\developer\\desktop\\private\\mindaffectBCI\\presentation\\screens\\..\\audio\\digits/MAE_2A.wav\n",
      "Loading: c:\\users\\developer\\desktop\\private\\mindaffectBCI\\presentation\\screens\\..\\audio\\digits/MAE_3A.wav\n",
      "Loading: c:\\users\\developer\\desktop\\private\\mindaffectBCI\\presentation\\screens\\..\\audio\\digits/MAE_4A.wav\n",
      "mouse press in line 0  = 9) ImageFlashScreen  (image)\n",
      "stage transition\n",
      "flicker: 240 frames, tgt -1\n",
      "\n",
      "stage transition\n"
     ]
    }
   ],
   "source": [
    "from mindaffectBCI.presentation.ScreenRunner import run\n",
    "run(config_file='gallery.json')"
   ]
  },
  {
   "cell_type": "markdown",
   "metadata": {},
   "source": [
    "## Hands-on assignment: Visual Evoked Potentials\n",
    "\n",
    "Now you know the basics of how to make a screen, as a user interface and to display stimuli, it's time to get your hands dirty by making a simple experiment.   \n",
    "\n",
    "For this assignment I would like to to make a simple experiment to investigate visual evoked potentials.   It should have the following.\n",
    "1. Have a *main menu*, which allows the user to select: electrode quality or stimulus experiment.\n",
    "2. Have a stimulus sub-screen.\n",
    "\n",
    "### Stimulus Requirements\n",
    "To generate strong 'isolated' VEPs the stimuli should have the following properties: \n",
    "1. Have a single square in the middle of the screen\n",
    "2. Have a fixation cross\n",
    "3. Have the square 'flicker' by going from 'grey' (rgb=(5,5,5)) to 'white' (rgb=(255,255,255))\n",
    "4. The flicker sequence should the pseudo-random, but *slow*, with stimuli randomly *white* for about 100ms roughly 2 times a second.\n",
    "5. A single stimulus run should be about 5min, consisting of 40 trials of 10 seconds each, with about a 5s gap between trials.\n",
    "\n",
    "\n",
    "### Implementation Advice\n",
    "This should be a very simple assignment, taking you 1-2hr to complete.   To help you with that here are some thoughts to guide your thinking\n",
    "* \"Use an existing screen or make your own\"?  Think about what existing screens are available, can they be re-used for (some of the) functionality you need for this application?  If so which bits?  If you need to make your own Screen, what functionality to you need and can you build on an existing screen?   (Hint: `SubscreensMenuScreen`, `SelectionGridScreen`)\n",
    "* \"Use an existing stimulus sequence of make a new one\"?  Think about the stimulus sequence properties you need, can you get these properties by re-using an existing stimulus sequence, or should you make a new one?  If you make a new one, can it be made by simply adapting an existing sequence? (Hint: `mindaffectBCI.stimseq.upsample_with_jitter`)\n",
    "* The `Noisetag` object has a lot of builtin functionality for making a trial based experiemnt.  In particular look at the `startCalibrationPhase` and `startPredictionPhase` methods which will run potentially cued multiple trials with gaps.\n",
    "\n",
    "\n",
    "\n"
   ]
  },
  {
   "cell_type": "code",
   "execution_count": null,
   "metadata": {},
   "outputs": [],
   "source": []
  },
  {
   "cell_type": "code",
   "execution_count": null,
   "metadata": {},
   "outputs": [],
   "source": []
  },
  {
   "cell_type": "code",
   "execution_count": null,
   "metadata": {},
   "outputs": [],
   "source": []
  },
  {
   "cell_type": "code",
   "execution_count": null,
   "metadata": {},
   "outputs": [],
   "source": []
  },
  {
   "cell_type": "code",
   "execution_count": null,
   "metadata": {},
   "outputs": [],
   "source": []
  },
  {
   "cell_type": "code",
   "execution_count": null,
   "metadata": {},
   "outputs": [],
   "source": []
  },
  {
   "cell_type": "code",
   "execution_count": null,
   "metadata": {},
   "outputs": [],
   "source": []
  },
  {
   "cell_type": "markdown",
   "metadata": {},
   "source": [
    "### Soln 1: Re-use existing screens & stim-sequences\n",
    "Specifically:\n",
    "1. `ConnectingScreen` for the initial connection to the hub\n",
    "2. `SubscreensMenuScreen` for the main menue\n",
    "3. `ElectrodeQualityScreen` for the electrode quality\n",
    "4. `SelectionGridScreen` for the stimulus.  With a single cell symbols set. `symbols=[[' ']]`\n",
    "5. `upsample_with_jitter` the existing `level2_gold.txt` to make a correct stimulus sequence.\n",
    "6. use `startPredictionPhase` of the noisetag object to make it run a whole sequence of trials with the given durations."
   ]
  },
  {
   "cell_type": "markdown",
   "metadata": {},
   "source": [
    "#### 1. Make the stimulus sequence\n",
    "Upsample a normal binary pseudo-random sequence by 5 with jitter of 1 without latch to pad with 0's to mean that on-average 2 stimuli are on every 1/6s=10-frames\n"
   ]
  },
  {
   "cell_type": "code",
   "execution_count": 6,
   "metadata": {},
   "outputs": [
    {
     "name": "stdout",
     "output_type": "stream",
     "text": [
      "Saving to: level2_gold_soa5.txt\n"
     ]
    },
    {
     "data": {
      "image/png": "[encoded data removed]",
      "text/plain": [
       "<Figure size 432x288 with 1 Axes>"
      ]
     },
     "metadata": {
      "needs_background": "light"
     },
     "output_type": "display_data"
    }
   ],
   "source": [
    "from mindaffectBCI.stimseq import StimSeq, upsample_with_jitter\n",
    "# load the starting sequence\n",
    "stimseq = StimSeq.fromFile('level2_gold.txt')\n",
    "# upsample by 5x with 0-padding to get to 2 stim / 10-frames\n",
    "stimseq = upsample_with_jitter(stimseq, soa=5, jitter=1, min_soa=2, max_soa=8, latch=False )\n",
    "# plot&save\n",
    "stimseq.plot(xlim=(0,180),ylim=(0,5))\n",
    "stimseq.toFile('level2_gold_soa5.txt') "
   ]
  },
  {
   "cell_type": "markdown",
   "metadata": {},
   "source": [
    "### 2. Make the screen\n",
    "\n",
    "1. Make a sub-screens menu screen to controll the application\n",
    "2. Make the stimulus-screen\n",
    "3. Setup the noisetag playback sequence to:\n",
    "   1. Play the stimulus with a framesperbit=6 to slow down so each 'flash' lasts 100ms\n",
    "   2. Play the stimuli as a set of 40 trials with a duration of 15s and a 5s gap between, by passing these are arguments to the noisetag in the stimulus screen."
   ]
  },
  {
   "cell_type": "code",
   "execution_count": 7,
   "metadata": {},
   "outputs": [],
   "source": [
    "from mindaffectBCI.presentation.screens.SubscreenMenuScreen import SubscreenMenuScreen\n",
    "from mindaffectBCI.presentation.screens.SelectionGridScreen import SelectionGridScreen\n",
    "from mindaffectBCI.presentation.screens.ElectrodeQualityScreen import ElectrodeQualityScreen\n",
    "from mindaffectBCI.presentation.screens.ConnectingScreen import ConnectingScreen\n",
    "\n",
    "subscreens = {\n",
    "    'conn':['ConnectingScreen',{}],\n",
    "    'qual':['ElectrodeQualityScreen',{}],\n",
    "    'stim':['SelectionGridScreen',{'symbols':[['+']],\n",
    "                # use the correct color mapping\n",
    "                \"state2color\": {\"0\":[5,5,5],\"1\":[255,255,255]},\n",
    "                # setup to run thie stimulus sequence in prediction mode, i.e. no 'target' or cueing\n",
    "                'noisetag_mode':'prediction',\n",
    "                # setup the playback arguments -- slowdown, num-trials, trial-duration etc.\n",
    "                'noisetag_args':{'stimSeq':'level2_gold_soa5.txt',\n",
    "                                 'framesperbit':6,\n",
    "                                 'nTrials':40,\n",
    "                                 'duration':15,\n",
    "                                 'waitduration':4}}]\n",
    "}\n",
    "# start with connecting screen & transition to menu when connection is done\n",
    "start_screen = 'conn'\n",
    "subscreen_transitions = { 'conn':'menu' }\n"
   ]
  },
  {
   "cell_type": "code",
   "execution_count": 8,
   "metadata": {},
   "outputs": [],
   "source": [
    "# create the noisetag object and load a stimulus sequence to play\n",
    "from mindaffectBCI.noisetag import Noisetag\n",
    "# the one we just made\n",
    "nt = Noisetag()"
   ]
  },
  {
   "cell_type": "code",
   "execution_count": 9,
   "metadata": {},
   "outputs": [
    {
     "name": "stdout",
     "output_type": "stream",
     "text": [
      "Electrode Quality (3600000ms)\n"
     ]
    }
   ],
   "source": [
    "from mindaffectBCI.presentation.ScreenRunner import initPyglet, run_screen, run\n",
    "# make the window and run it\n",
    "window = initPyglet(width=640, height=480)\n",
    "\n",
    "# connect the screen to the window and noise-tag\n",
    "screen = SubscreenMenuScreen(window=window, noisetag=nt, \n",
    "                             subscreens=subscreens,\n",
    "                             subscreen_transitions=subscreen_transitions, start_screen=start_screen)\n"
   ]
  },
  {
   "cell_type": "code",
   "execution_count": 10,
   "metadata": {},
   "outputs": [
    {
     "ename": "ConnectionResetError",
     "evalue": "[WinError 10054] An existing connection was forcibly closed by the remote host",
     "output_type": "error",
     "traceback": [
      "\u001b[1;31m---------------------------------------------------------------------------\u001b[0m",
      "\u001b[1;31mConnectionResetError\u001b[0m                      Traceback (most recent call last)",
      "\u001b[1;32mc:\\Users\\Developer\\Desktop\\private\\mindaffectBCI\\presentation\\Screens_and_stimuli.ipynb Cell 50'\u001b[0m in \u001b[0;36m<module>\u001b[1;34m\u001b[0m\n\u001b[0;32m      <a href='vscode-notebook-cell:/c%3A/Users/Developer/Desktop/private/mindaffectBCI/presentation/Screens_and_stimuli.ipynb#ch0000047?line=0'>1</a>\u001b[0m \u001b[39m# set the noisetag to run a multi-trial stimulus seqeuence\u001b[39;00m\n\u001b[0;32m      <a href='vscode-notebook-cell:/c%3A/Users/Developer/Desktop/private/mindaffectBCI/presentation/Screens_and_stimuli.ipynb#ch0000047?line=1'>2</a>\u001b[0m \u001b[39m#nt.startPrediction(nTrials=40, stimSeq='level2_gold_soa30.txt', duration=15, waitduration=5, sendEvents=True)\u001b[39;00m\n\u001b[0;32m      <a href='vscode-notebook-cell:/c%3A/Users/Developer/Desktop/private/mindaffectBCI/presentation/Screens_and_stimuli.ipynb#ch0000047?line=2'>3</a>\u001b[0m \n\u001b[0;32m      <a href='vscode-notebook-cell:/c%3A/Users/Developer/Desktop/private/mindaffectBCI/presentation/Screens_and_stimuli.ipynb#ch0000047?line=3'>4</a>\u001b[0m \u001b[39m# run the screen\u001b[39;00m\n\u001b[1;32m----> <a href='vscode-notebook-cell:/c%3A/Users/Developer/Desktop/private/mindaffectBCI/presentation/Screens_and_stimuli.ipynb#ch0000047?line=4'>5</a>\u001b[0m run_screen(window, screen)\n",
      "File \u001b[1;32mc:\\users\\developer\\desktop\\private\\mindaffectBCI\\presentation\\ScreenRunner.py:142\u001b[0m, in \u001b[0;36mrun_screen\u001b[1;34m(window, screen, drawrate)\u001b[0m\n\u001b[0;32m    <a href='file:///c%3A/users/developer/desktop/private/mindaffectBCI/presentation/ScreenRunner.py?line=139'>140</a>\u001b[0m window\u001b[39m.\u001b[39mset_visible(\u001b[39mTrue\u001b[39;00m)\n\u001b[0;32m    <a href='file:///c%3A/users/developer/desktop/private/mindaffectBCI/presentation/ScreenRunner.py?line=140'>141</a>\u001b[0m screen\u001b[39m.\u001b[39mreset()\n\u001b[1;32m--> <a href='file:///c%3A/users/developer/desktop/private/mindaffectBCI/presentation/ScreenRunner.py?line=141'>142</a>\u001b[0m pyglet\u001b[39m.\u001b[39;49mapp\u001b[39m.\u001b[39;49mrun()\n\u001b[0;32m    <a href='file:///c%3A/users/developer/desktop/private/mindaffectBCI/presentation/ScreenRunner.py?line=142'>143</a>\u001b[0m pyglet\u001b[39m.\u001b[39mapp\u001b[39m.\u001b[39mEventLoop()\u001b[39m.\u001b[39mexit()\n\u001b[0;32m    <a href='file:///c%3A/users/developer/desktop/private/mindaffectBCI/presentation/ScreenRunner.py?line=143'>144</a>\u001b[0m window\u001b[39m.\u001b[39mset_visible(\u001b[39mFalse\u001b[39;00m)\n",
      "File \u001b[1;32m~\\AppData\\Local\\Packages\\PythonSoftwareFoundation.Python.3.8_qbz5n2kfra8p0\\LocalCache\\local-packages\\Python38\\site-packages\\pyglet\\app\\__init__.py:107\u001b[0m, in \u001b[0;36mrun\u001b[1;34m()\u001b[0m\n\u001b[0;32m     <a href='file:///c%3A/Users/Developer/AppData/Local/Packages/PythonSoftwareFoundation.Python.3.8_qbz5n2kfra8p0/LocalCache/local-packages/Python38/site-packages/pyglet/app/__init__.py?line=98'>99</a>\u001b[0m \u001b[39mdef\u001b[39;00m \u001b[39mrun\u001b[39m():\n\u001b[0;32m    <a href='file:///c%3A/Users/Developer/AppData/Local/Packages/PythonSoftwareFoundation.Python.3.8_qbz5n2kfra8p0/LocalCache/local-packages/Python38/site-packages/pyglet/app/__init__.py?line=99'>100</a>\u001b[0m     \u001b[39m\"\"\"Begin processing events, scheduled functions and window updates.\u001b[39;00m\n\u001b[0;32m    <a href='file:///c%3A/Users/Developer/AppData/Local/Packages/PythonSoftwareFoundation.Python.3.8_qbz5n2kfra8p0/LocalCache/local-packages/Python38/site-packages/pyglet/app/__init__.py?line=100'>101</a>\u001b[0m \n\u001b[0;32m    <a href='file:///c%3A/Users/Developer/AppData/Local/Packages/PythonSoftwareFoundation.Python.3.8_qbz5n2kfra8p0/LocalCache/local-packages/Python38/site-packages/pyglet/app/__init__.py?line=101'>102</a>\u001b[0m \u001b[39m    This is a convenience function, equivalent to::\u001b[39;00m\n\u001b[1;32m   (...)\u001b[0m\n\u001b[0;32m    <a href='file:///c%3A/Users/Developer/AppData/Local/Packages/PythonSoftwareFoundation.Python.3.8_qbz5n2kfra8p0/LocalCache/local-packages/Python38/site-packages/pyglet/app/__init__.py?line=104'>105</a>\u001b[0m \n\u001b[0;32m    <a href='file:///c%3A/Users/Developer/AppData/Local/Packages/PythonSoftwareFoundation.Python.3.8_qbz5n2kfra8p0/LocalCache/local-packages/Python38/site-packages/pyglet/app/__init__.py?line=105'>106</a>\u001b[0m \u001b[39m    \"\"\"\u001b[39;00m\n\u001b[1;32m--> <a href='file:///c%3A/Users/Developer/AppData/Local/Packages/PythonSoftwareFoundation.Python.3.8_qbz5n2kfra8p0/LocalCache/local-packages/Python38/site-packages/pyglet/app/__init__.py?line=106'>107</a>\u001b[0m     event_loop\u001b[39m.\u001b[39;49mrun()\n",
      "File \u001b[1;32m~\\AppData\\Local\\Packages\\PythonSoftwareFoundation.Python.3.8_qbz5n2kfra8p0\\LocalCache\\local-packages\\Python38\\site-packages\\pyglet\\app\\base.py:167\u001b[0m, in \u001b[0;36mEventLoop.run\u001b[1;34m(self)\u001b[0m\n\u001b[0;32m    <a href='file:///c%3A/Users/Developer/AppData/Local/Packages/PythonSoftwareFoundation.Python.3.8_qbz5n2kfra8p0/LocalCache/local-packages/Python38/site-packages/pyglet/app/base.py?line=163'>164</a>\u001b[0m \u001b[39mself\u001b[39m\u001b[39m.\u001b[39mis_running \u001b[39m=\u001b[39m \u001b[39mTrue\u001b[39;00m\n\u001b[0;32m    <a href='file:///c%3A/Users/Developer/AppData/Local/Packages/PythonSoftwareFoundation.Python.3.8_qbz5n2kfra8p0/LocalCache/local-packages/Python38/site-packages/pyglet/app/base.py?line=165'>166</a>\u001b[0m \u001b[39mwhile\u001b[39;00m \u001b[39mnot\u001b[39;00m \u001b[39mself\u001b[39m\u001b[39m.\u001b[39mhas_exit:\n\u001b[1;32m--> <a href='file:///c%3A/Users/Developer/AppData/Local/Packages/PythonSoftwareFoundation.Python.3.8_qbz5n2kfra8p0/LocalCache/local-packages/Python38/site-packages/pyglet/app/base.py?line=166'>167</a>\u001b[0m     timeout \u001b[39m=\u001b[39m \u001b[39mself\u001b[39;49m\u001b[39m.\u001b[39;49midle()\n\u001b[0;32m    <a href='file:///c%3A/Users/Developer/AppData/Local/Packages/PythonSoftwareFoundation.Python.3.8_qbz5n2kfra8p0/LocalCache/local-packages/Python38/site-packages/pyglet/app/base.py?line=167'>168</a>\u001b[0m     platform_event_loop\u001b[39m.\u001b[39mstep(timeout)\n\u001b[0;32m    <a href='file:///c%3A/Users/Developer/AppData/Local/Packages/PythonSoftwareFoundation.Python.3.8_qbz5n2kfra8p0/LocalCache/local-packages/Python38/site-packages/pyglet/app/base.py?line=169'>170</a>\u001b[0m \u001b[39mself\u001b[39m\u001b[39m.\u001b[39mis_running \u001b[39m=\u001b[39m \u001b[39mFalse\u001b[39;00m\n",
      "File \u001b[1;32m~\\AppData\\Local\\Packages\\PythonSoftwareFoundation.Python.3.8_qbz5n2kfra8p0\\LocalCache\\local-packages\\Python38\\site-packages\\pyglet\\app\\base.py:237\u001b[0m, in \u001b[0;36mEventLoop.idle\u001b[1;34m(self)\u001b[0m\n\u001b[0;32m    <a href='file:///c%3A/Users/Developer/AppData/Local/Packages/PythonSoftwareFoundation.Python.3.8_qbz5n2kfra8p0/LocalCache/local-packages/Python38/site-packages/pyglet/app/base.py?line=211'>212</a>\u001b[0m \u001b[39m\"\"\"Called during each iteration of the event loop.\u001b[39;00m\n\u001b[0;32m    <a href='file:///c%3A/Users/Developer/AppData/Local/Packages/PythonSoftwareFoundation.Python.3.8_qbz5n2kfra8p0/LocalCache/local-packages/Python38/site-packages/pyglet/app/base.py?line=212'>213</a>\u001b[0m \n\u001b[0;32m    <a href='file:///c%3A/Users/Developer/AppData/Local/Packages/PythonSoftwareFoundation.Python.3.8_qbz5n2kfra8p0/LocalCache/local-packages/Python38/site-packages/pyglet/app/base.py?line=213'>214</a>\u001b[0m \u001b[39mThe method is called immediately after any window events (i.e., after\u001b[39;00m\n\u001b[1;32m   (...)\u001b[0m\n\u001b[0;32m    <a href='file:///c%3A/Users/Developer/AppData/Local/Packages/PythonSoftwareFoundation.Python.3.8_qbz5n2kfra8p0/LocalCache/local-packages/Python38/site-packages/pyglet/app/base.py?line=233'>234</a>\u001b[0m \u001b[39m    be called again, or `None` to block for user input.\u001b[39;00m\n\u001b[0;32m    <a href='file:///c%3A/Users/Developer/AppData/Local/Packages/PythonSoftwareFoundation.Python.3.8_qbz5n2kfra8p0/LocalCache/local-packages/Python38/site-packages/pyglet/app/base.py?line=234'>235</a>\u001b[0m \u001b[39m\"\"\"\u001b[39;00m\n\u001b[0;32m    <a href='file:///c%3A/Users/Developer/AppData/Local/Packages/PythonSoftwareFoundation.Python.3.8_qbz5n2kfra8p0/LocalCache/local-packages/Python38/site-packages/pyglet/app/base.py?line=235'>236</a>\u001b[0m dt \u001b[39m=\u001b[39m \u001b[39mself\u001b[39m\u001b[39m.\u001b[39mclock\u001b[39m.\u001b[39mupdate_time()\n\u001b[1;32m--> <a href='file:///c%3A/Users/Developer/AppData/Local/Packages/PythonSoftwareFoundation.Python.3.8_qbz5n2kfra8p0/LocalCache/local-packages/Python38/site-packages/pyglet/app/base.py?line=236'>237</a>\u001b[0m redraw_all \u001b[39m=\u001b[39m \u001b[39mself\u001b[39;49m\u001b[39m.\u001b[39;49mclock\u001b[39m.\u001b[39;49mcall_scheduled_functions(dt)\n\u001b[0;32m    <a href='file:///c%3A/Users/Developer/AppData/Local/Packages/PythonSoftwareFoundation.Python.3.8_qbz5n2kfra8p0/LocalCache/local-packages/Python38/site-packages/pyglet/app/base.py?line=238'>239</a>\u001b[0m \u001b[39m# Redraw all windows\u001b[39;00m\n\u001b[0;32m    <a href='file:///c%3A/Users/Developer/AppData/Local/Packages/PythonSoftwareFoundation.Python.3.8_qbz5n2kfra8p0/LocalCache/local-packages/Python38/site-packages/pyglet/app/base.py?line=239'>240</a>\u001b[0m \u001b[39mfor\u001b[39;00m window \u001b[39min\u001b[39;00m app\u001b[39m.\u001b[39mwindows:\n",
      "File \u001b[1;32m~\\AppData\\Local\\Packages\\PythonSoftwareFoundation.Python.3.8_qbz5n2kfra8p0\\LocalCache\\local-packages\\Python38\\site-packages\\pyglet\\clock.py:255\u001b[0m, in \u001b[0;36mClock.call_scheduled_functions\u001b[1;34m(self, dt)\u001b[0m\n\u001b[0;32m    <a href='file:///c%3A/Users/Developer/AppData/Local/Packages/PythonSoftwareFoundation.Python.3.8_qbz5n2kfra8p0/LocalCache/local-packages/Python38/site-packages/pyglet/clock.py?line=252'>253</a>\u001b[0m     \u001b[39m# duplicate list in case event unschedules itself\u001b[39;00m\n\u001b[0;32m    <a href='file:///c%3A/Users/Developer/AppData/Local/Packages/PythonSoftwareFoundation.Python.3.8_qbz5n2kfra8p0/LocalCache/local-packages/Python38/site-packages/pyglet/clock.py?line=253'>254</a>\u001b[0m     \u001b[39mfor\u001b[39;00m item \u001b[39min\u001b[39;00m \u001b[39mlist\u001b[39m(\u001b[39mself\u001b[39m\u001b[39m.\u001b[39m_schedule_items):\n\u001b[1;32m--> <a href='file:///c%3A/Users/Developer/AppData/Local/Packages/PythonSoftwareFoundation.Python.3.8_qbz5n2kfra8p0/LocalCache/local-packages/Python38/site-packages/pyglet/clock.py?line=254'>255</a>\u001b[0m         item\u001b[39m.\u001b[39;49mfunc(dt, \u001b[39m*\u001b[39;49mitem\u001b[39m.\u001b[39;49margs, \u001b[39m*\u001b[39;49m\u001b[39m*\u001b[39;49mitem\u001b[39m.\u001b[39;49mkwargs)\n\u001b[0;32m    <a href='file:///c%3A/Users/Developer/AppData/Local/Packages/PythonSoftwareFoundation.Python.3.8_qbz5n2kfra8p0/LocalCache/local-packages/Python38/site-packages/pyglet/clock.py?line=256'>257</a>\u001b[0m \u001b[39m# check the next scheduled item that is not called each tick\u001b[39;00m\n\u001b[0;32m    <a href='file:///c%3A/Users/Developer/AppData/Local/Packages/PythonSoftwareFoundation.Python.3.8_qbz5n2kfra8p0/LocalCache/local-packages/Python38/site-packages/pyglet/clock.py?line=257'>258</a>\u001b[0m \u001b[39m# if it is scheduled in the future, then exit\u001b[39;00m\n\u001b[0;32m    <a href='file:///c%3A/Users/Developer/AppData/Local/Packages/PythonSoftwareFoundation.Python.3.8_qbz5n2kfra8p0/LocalCache/local-packages/Python38/site-packages/pyglet/clock.py?line=258'>259</a>\u001b[0m interval_items \u001b[39m=\u001b[39m \u001b[39mself\u001b[39m\u001b[39m.\u001b[39m_schedule_interval_items\n",
      "File \u001b[1;32mc:\\users\\developer\\desktop\\private\\mindaffectBCI\\presentation\\ScreenRunner.py:138\u001b[0m, in \u001b[0;36mrun_screen.<locals>.<lambda>\u001b[1;34m(dt)\u001b[0m\n\u001b[0;32m    <a href='file:///c%3A/users/developer/desktop/private/mindaffectBCI/presentation/ScreenRunner.py?line=134'>135</a>\u001b[0m     pyglet\u001b[39m.\u001b[39mclock\u001b[39m.\u001b[39mschedule_interval(\u001b[39mlambda\u001b[39;00m dt: draw_screen(screen,dt), drawrate)\n\u001b[0;32m    <a href='file:///c%3A/users/developer/desktop/private/mindaffectBCI/presentation/ScreenRunner.py?line=135'>136</a>\u001b[0m \u001b[39melse\u001b[39;00m:\n\u001b[0;32m    <a href='file:///c%3A/users/developer/desktop/private/mindaffectBCI/presentation/ScreenRunner.py?line=136'>137</a>\u001b[0m     \u001b[39m# call the draw method as fast as possible, i.e. at video frame rate!\u001b[39;00m\n\u001b[1;32m--> <a href='file:///c%3A/users/developer/desktop/private/mindaffectBCI/presentation/ScreenRunner.py?line=137'>138</a>\u001b[0m     pyglet\u001b[39m.\u001b[39mclock\u001b[39m.\u001b[39mschedule(\u001b[39mlambda\u001b[39;00m dt: draw_screen(screen,dt))\n\u001b[0;32m    <a href='file:///c%3A/users/developer/desktop/private/mindaffectBCI/presentation/ScreenRunner.py?line=138'>139</a>\u001b[0m \u001b[39m# mainloop\u001b[39;00m\n\u001b[0;32m    <a href='file:///c%3A/users/developer/desktop/private/mindaffectBCI/presentation/ScreenRunner.py?line=139'>140</a>\u001b[0m window\u001b[39m.\u001b[39mset_visible(\u001b[39mTrue\u001b[39;00m)\n",
      "File \u001b[1;32mc:\\users\\developer\\desktop\\private\\mindaffectBCI\\presentation\\ScreenRunner.py:117\u001b[0m, in \u001b[0;36mdraw_screen\u001b[1;34m(screen, dt)\u001b[0m\n\u001b[0;32m    <a href='file:///c%3A/users/developer/desktop/private/mindaffectBCI/presentation/ScreenRunner.py?line=114'>115</a>\u001b[0m \u001b[39mdef\u001b[39;00m \u001b[39mdraw_screen\u001b[39m(screen,dt):\n\u001b[0;32m    <a href='file:///c%3A/users/developer/desktop/private/mindaffectBCI/presentation/ScreenRunner.py?line=115'>116</a>\u001b[0m     \u001b[39m'''main window draw function, which redirects to the draw function'''\u001b[39;00m\n\u001b[1;32m--> <a href='file:///c%3A/users/developer/desktop/private/mindaffectBCI/presentation/ScreenRunner.py?line=116'>117</a>\u001b[0m     screen\u001b[39m.\u001b[39;49mdraw(dt)\n\u001b[0;32m    <a href='file:///c%3A/users/developer/desktop/private/mindaffectBCI/presentation/ScreenRunner.py?line=117'>118</a>\u001b[0m     \u001b[39m# check for termination\u001b[39;00m\n\u001b[0;32m    <a href='file:///c%3A/users/developer/desktop/private/mindaffectBCI/presentation/ScreenRunner.py?line=118'>119</a>\u001b[0m     \u001b[39mif\u001b[39;00m screen\u001b[39m.\u001b[39mis_done():\n",
      "File \u001b[1;32mc:\\users\\developer\\desktop\\private\\mindaffectBCI\\presentation\\screens\\basic_screens.py:338\u001b[0m, in \u001b[0;36mScreenGraph.draw\u001b[1;34m(self, t)\u001b[0m\n\u001b[0;32m    <a href='file:///c%3A/users/developer/desktop/private/mindaffectBCI/presentation/screens/basic_screens.py?line=335'>336</a>\u001b[0m \u001b[39mif\u001b[39;00m \u001b[39mself\u001b[39m\u001b[39m.\u001b[39mscreen \u001b[39mis\u001b[39;00m \u001b[39mNone\u001b[39;00m:\n\u001b[0;32m    <a href='file:///c%3A/users/developer/desktop/private/mindaffectBCI/presentation/screens/basic_screens.py?line=336'>337</a>\u001b[0m     \u001b[39mreturn\u001b[39;00m\n\u001b[1;32m--> <a href='file:///c%3A/users/developer/desktop/private/mindaffectBCI/presentation/screens/basic_screens.py?line=337'>338</a>\u001b[0m \u001b[39mself\u001b[39;49m\u001b[39m.\u001b[39;49mscreen\u001b[39m.\u001b[39;49mdraw(t)\n\u001b[0;32m    <a href='file:///c%3A/users/developer/desktop/private/mindaffectBCI/presentation/screens/basic_screens.py?line=338'>339</a>\u001b[0m \u001b[39mif\u001b[39;00m \u001b[39mself\u001b[39m\u001b[39m.\u001b[39mscreen\u001b[39m.\u001b[39mis_done():\n\u001b[0;32m    <a href='file:///c%3A/users/developer/desktop/private/mindaffectBCI/presentation/screens/basic_screens.py?line=339'>340</a>\u001b[0m     \u001b[39mself\u001b[39m\u001b[39m.\u001b[39mtransitionNextPhase()\n",
      "File \u001b[1;32mc:\\users\\developer\\desktop\\private\\mindaffectBCI\\presentation\\screens\\SelectionGridScreen.py:717\u001b[0m, in \u001b[0;36mSelectionGridScreen.draw\u001b[1;34m(self, t)\u001b[0m\n\u001b[0;32m    <a href='file:///c%3A/users/developer/desktop/private/mindaffectBCI/presentation/screens/SelectionGridScreen.py?line=714'>715</a>\u001b[0m \u001b[39mself\u001b[39m\u001b[39m.\u001b[39mnframe \u001b[39m=\u001b[39m \u001b[39mself\u001b[39m\u001b[39m.\u001b[39mnframe\u001b[39m+\u001b[39m\u001b[39m1\u001b[39m\n\u001b[0;32m    <a href='file:///c%3A/users/developer/desktop/private/mindaffectBCI/presentation/screens/SelectionGridScreen.py?line=715'>716</a>\u001b[0m \u001b[39mif\u001b[39;00m \u001b[39mself\u001b[39m\u001b[39m.\u001b[39msendEvents:\n\u001b[1;32m--> <a href='file:///c%3A/users/developer/desktop/private/mindaffectBCI/presentation/screens/SelectionGridScreen.py?line=716'>717</a>\u001b[0m     \u001b[39mself\u001b[39;49m\u001b[39m.\u001b[39;49mnoisetag\u001b[39m.\u001b[39;49msendStimulusState(timestamp\u001b[39m=\u001b[39;49mstimtime,injectSignal\u001b[39m=\u001b[39;49m\u001b[39mself\u001b[39;49m\u001b[39m.\u001b[39;49minjectSignal)\n\u001b[0;32m    <a href='file:///c%3A/users/developer/desktop/private/mindaffectBCI/presentation/screens/SelectionGridScreen.py?line=718'>719</a>\u001b[0m \u001b[39m# get the current stimulus state to show\u001b[39;00m\n\u001b[0;32m    <a href='file:///c%3A/users/developer/desktop/private/mindaffectBCI/presentation/screens/SelectionGridScreen.py?line=719'>720</a>\u001b[0m \u001b[39mtry\u001b[39;00m:\n",
      "File \u001b[1;32mc:\\users\\developer\\desktop\\private\\mindaffectBCI\\noisetag.py:939\u001b[0m, in \u001b[0;36mNoisetag.sendStimulusState\u001b[1;34m(self, timestamp, targetState, injectSignal)\u001b[0m\n\u001b[0;32m    <a href='file:///c%3A/users/developer/desktop/private/mindaffectBCI/noisetag.py?line=935'>936</a>\u001b[0m     targetState \u001b[39m=\u001b[39m stimState[target_idx] \u001b[39mif\u001b[39;00m target_idx \u001b[39mis\u001b[39;00m \u001b[39mnot\u001b[39;00m \u001b[39mNone\u001b[39;00m \u001b[39mand\u001b[39;00m target_idx \u001b[39m>\u001b[39m\u001b[39m=\u001b[39m \u001b[39m0\u001b[39m \u001b[39melse\u001b[39;00m \u001b[39m-\u001b[39m\u001b[39m1\u001b[39m\n\u001b[0;32m    <a href='file:///c%3A/users/developer/desktop/private/mindaffectBCI/noisetag.py?line=936'>937</a>\u001b[0m \u001b[39m# print((stimState,targetState))\u001b[39;00m\n\u001b[0;32m    <a href='file:///c%3A/users/developer/desktop/private/mindaffectBCI/noisetag.py?line=937'>938</a>\u001b[0m \u001b[39m# TODO[]: change to use the target_idx\u001b[39;00m\n\u001b[1;32m--> <a href='file:///c%3A/users/developer/desktop/private/mindaffectBCI/noisetag.py?line=938'>939</a>\u001b[0m \u001b[39mself\u001b[39;49m\u001b[39m.\u001b[39;49msendStimulusEvent(stimState,\n\u001b[0;32m    <a href='file:///c%3A/users/developer/desktop/private/mindaffectBCI/noisetag.py?line=939'>940</a>\u001b[0m                        timestamp,\n\u001b[0;32m    <a href='file:///c%3A/users/developer/desktop/private/mindaffectBCI/noisetag.py?line=940'>941</a>\u001b[0m                        targetState,\n\u001b[0;32m    <a href='file:///c%3A/users/developer/desktop/private/mindaffectBCI/noisetag.py?line=941'>942</a>\u001b[0m                        objIDs,\n\u001b[0;32m    <a href='file:///c%3A/users/developer/desktop/private/mindaffectBCI/noisetag.py?line=942'>943</a>\u001b[0m                        injectSignal)\n",
      "File \u001b[1;32mc:\\users\\developer\\desktop\\private\\mindaffectBCI\\noisetag.py:955\u001b[0m, in \u001b[0;36mNoisetag.sendStimulusEvent\u001b[1;34m(self, stimState, timestamp, targetState, objIDs, injectSignal)\u001b[0m\n\u001b[0;32m    <a href='file:///c%3A/users/developer/desktop/private/mindaffectBCI/noisetag.py?line=944'>945</a>\u001b[0m \u001b[39mdef\u001b[39;00m \u001b[39msendStimulusEvent\u001b[39m(\u001b[39mself\u001b[39m, stimState, timestamp\u001b[39m=\u001b[39m\u001b[39mNone\u001b[39;00m, targetState\u001b[39m=\u001b[39m\u001b[39mNone\u001b[39;00m, objIDs\u001b[39m=\u001b[39m\u001b[39mNone\u001b[39;00m, injectSignal\u001b[39m=\u001b[39m\u001b[39mNone\u001b[39;00m):\n\u001b[0;32m    <a href='file:///c%3A/users/developer/desktop/private/mindaffectBCI/noisetag.py?line=945'>946</a>\u001b[0m     \u001b[39m\"\"\"send the current stimulus state information to the decoder\u001b[39;00m\n\u001b[0;32m    <a href='file:///c%3A/users/developer/desktop/private/mindaffectBCI/noisetag.py?line=946'>947</a>\u001b[0m \n\u001b[0;32m    <a href='file:///c%3A/users/developer/desktop/private/mindaffectBCI/noisetag.py?line=947'>948</a>\u001b[0m \u001b[39m    Args:\u001b[39;00m\n\u001b[1;32m   (...)\u001b[0m\n\u001b[0;32m    <a href='file:///c%3A/users/developer/desktop/private/mindaffectBCI/noisetag.py?line=952'>953</a>\u001b[0m \u001b[39m        injectSignal (float, optional): the level of the injected signal to send (fakedata only). Defaults to None.\u001b[39;00m\n\u001b[0;32m    <a href='file:///c%3A/users/developer/desktop/private/mindaffectBCI/noisetag.py?line=953'>954</a>\u001b[0m \u001b[39m    \"\"\"\u001b[39;00m\n\u001b[1;32m--> <a href='file:///c%3A/users/developer/desktop/private/mindaffectBCI/noisetag.py?line=954'>955</a>\u001b[0m     \u001b[39mself\u001b[39;49m\u001b[39m.\u001b[39;49mutopiaController\u001b[39m.\u001b[39;49msendStimulusEvent(stimState,\n\u001b[0;32m    <a href='file:///c%3A/users/developer/desktop/private/mindaffectBCI/noisetag.py?line=955'>956</a>\u001b[0m                                             timestamp,\n\u001b[0;32m    <a href='file:///c%3A/users/developer/desktop/private/mindaffectBCI/noisetag.py?line=956'>957</a>\u001b[0m                                             targetState,\n\u001b[0;32m    <a href='file:///c%3A/users/developer/desktop/private/mindaffectBCI/noisetag.py?line=957'>958</a>\u001b[0m                                             objIDs,\n\u001b[0;32m    <a href='file:///c%3A/users/developer/desktop/private/mindaffectBCI/noisetag.py?line=958'>959</a>\u001b[0m                                             injectSignal)\n",
      "File \u001b[1;32mc:\\users\\developer\\desktop\\private\\mindaffectBCI\\utopiaController.py:162\u001b[0m, in \u001b[0;36mUtopiaController.sendStimulusEvent\u001b[1;34m(self, stimulusState, timestamp, targetState, objIDs, injectSignal)\u001b[0m\n\u001b[0;32m    <a href='file:///c%3A/users/developer/desktop/private/mindaffectBCI/utopiaController.py?line=147'>148</a>\u001b[0m \u001b[39m\"\"\"\u001b[39;00m\n\u001b[0;32m    <a href='file:///c%3A/users/developer/desktop/private/mindaffectBCI/utopiaController.py?line=148'>149</a>\u001b[0m \u001b[39mSend a message to the Utopia-HUB informing of the current stimulus state\u001b[39;00m\n\u001b[0;32m    <a href='file:///c%3A/users/developer/desktop/private/mindaffectBCI/utopiaController.py?line=149'>150</a>\u001b[0m \n\u001b[1;32m   (...)\u001b[0m\n\u001b[0;32m    <a href='file:///c%3A/users/developer/desktop/private/mindaffectBCI/utopiaController.py?line=158'>159</a>\u001b[0m \u001b[39m    [type]: [description]\u001b[39;00m\n\u001b[0;32m    <a href='file:///c%3A/users/developer/desktop/private/mindaffectBCI/utopiaController.py?line=159'>160</a>\u001b[0m \u001b[39m\"\"\"\u001b[39;00m\n\u001b[0;32m    <a href='file:///c%3A/users/developer/desktop/private/mindaffectBCI/utopiaController.py?line=160'>161</a>\u001b[0m stimEvent \u001b[39m=\u001b[39m \u001b[39mself\u001b[39m\u001b[39m.\u001b[39mmkStimulusEvent(stimulusState, timestamp, targetState, objIDs)\n\u001b[1;32m--> <a href='file:///c%3A/users/developer/desktop/private/mindaffectBCI/utopiaController.py?line=161'>162</a>\u001b[0m \u001b[39mif\u001b[39;00m \u001b[39mself\u001b[39m\u001b[39m.\u001b[39misConnected(): \u001b[39mself\u001b[39;49m\u001b[39m.\u001b[39;49mclient\u001b[39m.\u001b[39;49msendMessage(stimEvent)\n\u001b[0;32m    <a href='file:///c%3A/users/developer/desktop/private/mindaffectBCI/utopiaController.py?line=162'>163</a>\u001b[0m \u001b[39m# erp injection for debugging with fakedata\u001b[39;00m\n\u001b[0;32m    <a href='file:///c%3A/users/developer/desktop/private/mindaffectBCI/utopiaController.py?line=163'>164</a>\u001b[0m \u001b[39mif\u001b[39;00m injectSignal \u001b[39mis\u001b[39;00m \u001b[39mNone\u001b[39;00m:\n",
      "File \u001b[1;32mc:\\users\\developer\\desktop\\private\\mindaffectBCI\\utopiaclient.py:1238\u001b[0m, in \u001b[0;36mUtopiaClient.sendMessage\u001b[1;34m(self, msg)\u001b[0m\n\u001b[0;32m   <a href='file:///c%3A/users/developer/desktop/private/mindaffectBCI/utopiaclient.py?line=1235'>1236</a>\u001b[0m         msg\u001b[39m.\u001b[39mtimestamp \u001b[39m=\u001b[39m \u001b[39mself\u001b[39m\u001b[39m.\u001b[39mgetTimeStamp()\n\u001b[0;32m   <a href='file:///c%3A/users/developer/desktop/private/mindaffectBCI/utopiaclient.py?line=1236'>1237</a>\u001b[0m     msg \u001b[39m=\u001b[39m RawMessage\u001b[39m.\u001b[39mfromUtopiaMessage(msg)\n\u001b[1;32m-> <a href='file:///c%3A/users/developer/desktop/private/mindaffectBCI/utopiaclient.py?line=1237'>1238</a>\u001b[0m \u001b[39mself\u001b[39;49m\u001b[39m.\u001b[39;49msendRaw(msg\u001b[39m.\u001b[39;49mserialize()) \u001b[39m# send the raw message directly\u001b[39;00m\n\u001b[0;32m   <a href='file:///c%3A/users/developer/desktop/private/mindaffectBCI/utopiaclient.py?line=1238'>1239</a>\u001b[0m \u001b[39mself\u001b[39m\u001b[39m.\u001b[39msendHeartbeatIfTimeout()\n",
      "File \u001b[1;32mc:\\users\\developer\\desktop\\private\\mindaffectBCI\\utopiaclient.py:1215\u001b[0m, in \u001b[0;36mUtopiaClient.sendRaw\u001b[1;34m(self, request)\u001b[0m\n\u001b[0;32m   <a href='file:///c%3A/users/developer/desktop/private/mindaffectBCI/utopiaclient.py?line=1211'>1212</a>\u001b[0m     \u001b[39mraise\u001b[39;00m \u001b[39mIOError\u001b[39;00m(\u001b[39m'\u001b[39m\u001b[39mNot connected to utopia server\u001b[39m\u001b[39m'\u001b[39m)\n\u001b[0;32m   <a href='file:///c%3A/users/developer/desktop/private/mindaffectBCI/utopiaclient.py?line=1213'>1214</a>\u001b[0m N \u001b[39m=\u001b[39m \u001b[39mlen\u001b[39m(request)\n\u001b[1;32m-> <a href='file:///c%3A/users/developer/desktop/private/mindaffectBCI/utopiaclient.py?line=1214'>1215</a>\u001b[0m nw \u001b[39m=\u001b[39m \u001b[39mself\u001b[39;49m\u001b[39m.\u001b[39;49msock\u001b[39m.\u001b[39;49msend(request)\n\u001b[0;32m   <a href='file:///c%3A/users/developer/desktop/private/mindaffectBCI/utopiaclient.py?line=1215'>1216</a>\u001b[0m \u001b[39mwhile\u001b[39;00m nw\u001b[39m<\u001b[39mN:\n\u001b[0;32m   <a href='file:///c%3A/users/developer/desktop/private/mindaffectBCI/utopiaclient.py?line=1216'>1217</a>\u001b[0m     nw \u001b[39m+\u001b[39m\u001b[39m=\u001b[39m \u001b[39mself\u001b[39m\u001b[39m.\u001b[39msock\u001b[39m.\u001b[39msend(request[nw:])\n",
      "\u001b[1;31mConnectionResetError\u001b[0m: [WinError 10054] An existing connection was forcibly closed by the remote host"
     ]
    }
   ],
   "source": [
    "\n",
    "# set the noisetag to run a multi-trial stimulus seqeuence\n",
    "#nt.startPrediction(nTrials=40, stimSeq='level2_gold_soa30.txt', duration=15, waitduration=5, sendEvents=True)\n",
    "\n",
    "# run the screen\n",
    "run_screen(window, screen)"
   ]
  },
  {
   "cell_type": "markdown",
   "metadata": {},
   "source": [
    "## Running from a .json file\n",
    "For many of the common cases, like above, you don't need to write a completely new `Screen` file, but can work directly with the existing classes with a new stimulus sequence.   In these cases you can instead directly make a BCI application configuration to run your experiment.  For this experiment this .json config looks very much like the above code and can be given as:"
   ]
  },
  {
   "cell_type": "code",
   "execution_count": 1,
   "metadata": {},
   "outputs": [],
   "source": [
    "config={\n",
    "    # set to run from the ScreenRunner\n",
    "    \"presentation\": \"mindaffectBCI.presentation.ScreenRunner\",\n",
    "    # setup the screen to run..\n",
    "    \"presentation_args\": {\n",
    "        \"width\": 1024,\n",
    "        \"height\": 768,\n",
    "        # set the noisetag object to use, and the stimsequence to play\n",
    "        \"noisetag\": {\n",
    "            \"stimSeq\": \"level2_gold_soa5.txt\"\n",
    "        },\n",
    "        # set main screen to show.  Here we use the sub-screen menu screen to build a menu of sub-screens to show\n",
    "        \"screen\": [\n",
    "            \"mindaffectBCI.presentation.screens.SubscreenMenuScreen.SubscreenMenuScreen\",\n",
    "            {\n",
    "                \"title\": \"Minimal Application Example\",\n",
    "                # here is the list of sub-screens to select from in the main menu\n",
    "                # the format is : \"name\":[ScreenClassName, screen_args]\n",
    "                # where screenclass name is either a fullyqualified class name, or a class in 'mindaffectBCI.presentation.screens' with the same filename and class name\n",
    "                # and screen_args is a dictionary of arguments to pass to the screen constructor\n",
    "                \"subscreens\": {\n",
    "                    \"conn\": [\"ConnectingScreen\", {} ],\n",
    "                    \"elect\": [ \"ElectrodeQualityScreen\", { \"label\": \"Electrode Quality Screen\" } ],\n",
    "                    \"stim\": [\"SelectionGridScreen\", {\n",
    "                            # single block in the middle of the screen with a + as fixation\n",
    "                            \"symbols\": [ [ \"+\" ] ],\n",
    "                            # use the correct color mapping\n",
    "                            \"state2color\": { \"0\":[5,5,5], \"1\":[255,255,255] },\n",
    "                            # setup to run thie stimulus sequence in prediction mode, i.e. no 'target' or cueing\n",
    "                            \"noisetag_mode\": \"prediction\",\n",
    "                            # setup the playback arguments -- slowdown, num-trials, trial-duration etc.\n",
    "                            \"noisetag_args\": {\n",
    "                                \"stimSeq\": \"level2_gold_soa5.txt\", # 5x slowdown = 2 events / 10 frames\n",
    "                                \"framesperbit\": 6, # 6x slowdown = 100ms stimulus rate = 10 frames / sec\n",
    "                                \"nTrials\": 40,\n",
    "                                \"duration\": 15, # 15s trial duration\n",
    "                                \"waitduration\": 4\n",
    "                            }\n",
    "                        }\n",
    "                    ]\n",
    "                },\n",
    "                # start with connecting screen & transition to menu when connection is done\n",
    "                \"start_screen\": \"conn\",\n",
    "                \"subscreen_transitions\": { \"conn\": \"menu\" }\n",
    "            }\n",
    "        ]\n",
    "    }\n",
    "}"
   ]
  },
  {
   "cell_type": "markdown",
   "metadata": {},
   "source": [
    "You can either put this directly into an application .json, with an acquisition and decoder config.  In this case you can see this in the file [`config\\TutorialScreen.json`](../../config/TutorialScreen.json).\n",
    "\n",
    "Also as a convience you can test if a .json config stored in a python dictionary directly with:"
   ]
  },
  {
   "cell_type": "code",
   "execution_count": 2,
   "metadata": {},
   "outputs": [
    {
     "name": "stderr",
     "output_type": "stream",
     "text": [
      "C:\\Users\\Developer\\AppData\\Local\\Packages\\PythonSoftwareFoundation.Python.3.8_qbz5n2kfra8p0\\LocalCache\\local-packages\\Python38\\site-packages\\pyglet\\image\\codecs\\wic.py:292: UserWarning: [WinError -2147417850] Cannot change thread mode after it is set\n",
      "  warnings.warn(str(err))\n"
     ]
    },
    {
     "name": "stdout",
     "output_type": "stream",
     "text": [
      "Electrode Quality (3600000ms)\n",
      "Not connected yet!!\n",
      "Trying to auto-discover the utopia-hub server\n",
      "making discovery object\n",
      "Using inteface: 192.168.200.39\n",
      ".\n",
      "Discovery returned 0 utopia-hub servers\n",
      "Error:: couldnt autodiscover the decoder!\n",
      "Tring to connect to: localhost:-1\n",
      "Trying to connect to: localhost:8400\n",
      "Connection refused...  Waiting\n",
      "[WinError 10061] No connection could be made because the target machine actively refused it\n",
      "Socket error connecting: \n",
      "Connection Refused!\n",
      "Warning:: couldnt connect to a utopia hub....\n",
      "Not connected yet!!\n",
      "Trying to auto-discover the utopia-hub server\n",
      ".\n",
      "Discovery returned 0 utopia-hub servers\n",
      "Error:: couldnt autodiscover the decoder!\n",
      "Tring to connect to: localhost:-1\n",
      "Trying to connect to: localhost:8400\n",
      "Connection refused...  Waiting\n",
      "[WinError 10061] No connection could be made because the target machine actively refused it\n",
      "Socket error connecting: \n",
      "Connection Refused!\n",
      "Warning:: couldnt connect to a utopia hub....\n",
      "stage transition\n",
      "mouse press in line 0  = 2) SelectionGridScreen  (stim)\n",
      "stage transition\n",
      "noisetag_reset\n",
      "noisetag::prediction {'stimSeq': 'level2_gold_soa5.txt', 'framesperbit': 6, 'nTrials': 40, 'duration': 15, 'waitduration': 4}\n",
      "Start Pred: 0/40\n",
      "tgtidx=-1\n",
      "2.stim, tgt:-1   900frames\n",
      "flicker: 900 frames, tgt -1\n",
      " with selection\n"
     ]
    }
   ],
   "source": [
    "from mindaffectBCI.presentation.ScreenRunner import run\n",
    "run(config_file=config)"
   ]
  },
  {
   "cell_type": "code",
   "execution_count": null,
   "metadata": {},
   "outputs": [],
   "source": []
  }
 ],
 "metadata": {
  "interpreter": {
   "hash": "836b0176d7acdfc99fffefc03528e671ccc84d09a419875f78f2732b9c9cf1b8"
  },
  "kernelspec": {
   "display_name": "Python 3.8.10 64-bit (windows store)",
   "language": "python",
   "name": "python3"
  },
  "language_info": {
   "codemirror_mode": {
    "name": "ipython",
    "version": 3
   },
   "file_extension": ".py",
   "mimetype": "text/x-python",
   "name": "python",
   "nbconvert_exporter": "python",
   "pygments_lexer": "ipython3",
   "version": "3.8.10"
  },
  "orig_nbformat": 4
 },
 "nbformat": 4,
 "nbformat_minor": 2
}
